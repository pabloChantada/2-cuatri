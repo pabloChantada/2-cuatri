{
 "cells": [
  {
   "cell_type": "markdown",
   "metadata": {},
   "source": [
    "no demasiado largo, unas ~150 lineas"
   ]
  },
  {
   "cell_type": "markdown",
   "metadata": {},
   "source": [
    "# Carga de datos\n",
    "\n",
    "Número de ejemplos | 10299 \n",
    "Número de variables| 561 \n",
    "Tipos de datos     | Enteros, Reales y Categóricos \n",
    "Nulos              | Sí\n",
    "\n",
    "\n",
    "Cargar los datos del problema. \n",
    "\n",
    "[-] Realice una pequeña descripción de los mismo \n",
    "- número de variables \n",
    "- número de instancias \n",
    "- número de individuos \n",
    "- número de clases de salida \n",
    "\n",
    "2. Calcule  el  porcentaje  de  nulos  que  hay  por  variable  y  en  el  conjunto  total  de  \n",
    "sistema. \n",
    "\n",
    "3. Preparar los datos para su uso en diferentes técnicas de clasificación. Es  decir  \n",
    "hacer  las  transformaciones  necesarias  en  los  datos  y  rellenar  los  datos  faltantes  \n",
    "cuando sea posible. \n",
    "\n",
    "4. Haga un holdout del 10% de los datos estos se reservarán hasta el final, pero hágalo \n",
    "individual-wise es decir es el 10% de los individuos el que quedará fuera use el valor \n",
    "de semilla 172 para realizar la división. Compruebe que individuos quedan fuera. \n",
    "\n",
    "5. Con los datos restantes, prepare un 5-Fold cross validation usando como semilla el valor 172. Tenga presente que la división debiera de hacerse teniendo en cuenta las \n",
    "instancias de un participante no estén en más de uno de los conjuntos.  \n",
    "\n",
    "6. Con  cada  uno  de  los  conjuntos  resultantes  realice  la  normalización  de  los  datos  \n",
    "mediante MinMaxScaler"
   ]
  },
  {
   "cell_type": "code",
   "execution_count": 57,
   "metadata": {},
   "outputs": [
    {
     "data": {
      "text/plain": [
       "csvDescription (generic function with 1 method)"
      ]
     },
     "metadata": {},
     "output_type": "display_data"
    }
   ],
   "source": [
    "function csvDescription(csv)\n",
    "    println(\"Variables: \", size(csv, 2))  # Número de columnas\n",
    "    println(\"Attributes: \", size(csv, 1))  # Número de filas\n",
    "    println(\"Individuals: \", length(unique(csv[:, 1])))  # Valores únicos en la primera columna\n",
    "    println(\"Classes: \", length(unique(csv[:, end])), \" | \", unique(csv[:, end]))  # Última columna\n",
    "end"
   ]
  },
  {
   "cell_type": "code",
   "execution_count": 58,
   "metadata": {},
   "outputs": [
    {
     "data": {
      "text/plain": [
       "getNullValues (generic function with 1 method)"
      ]
     },
     "metadata": {},
     "output_type": "display_data"
    }
   ],
   "source": [
    "function getNullValues(csv)\n",
    "    \n",
    "end"
   ]
  },
  {
   "cell_type": "code",
   "execution_count": null,
   "metadata": {},
   "outputs": [
    {
     "name": "stdout",
     "output_type": "stream",
     "text": [
      "Variables: 563"
     ]
    }
   ],
   "source": [
    "using DataFrames\n",
    "using CSV\n",
    "\n",
    "PATH = \"Datos_Práctica_Evaluación_1.csv\"\n",
    "data = CSV.read(PATH,DataFrame)\n",
    "# Showing the summart of the CSV\n",
    "\n",
    "# Son 561 variables quitar el header y no contar la de salida\n",
    "csvDescription(data)\n",
    "describe(data)\n"
   ]
  },
  {
   "cell_type": "code",
   "execution_count": null,
   "metadata": {},
   "outputs": [],
   "source": []
  }
 ],
 "metadata": {
  "kernelspec": {
   "display_name": "Julia 1.11.1",
   "language": "julia",
   "name": "julia-1.11"
  },
  "language_info": {
   "file_extension": ".jl",
   "mimetype": "application/julia",
   "name": "julia",
   "version": "1.11.1"
  }
 },
 "nbformat": 4,
 "nbformat_minor": 2
}
